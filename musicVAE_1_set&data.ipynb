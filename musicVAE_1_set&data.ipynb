{
  "nbformat": 4,
  "nbformat_minor": 0,
  "metadata": {
    "colab": {
      "name": "musicVAE_1_set&data.ipynb",
      "provenance": []
    },
    "kernelspec": {
      "name": "python3",
      "display_name": "Python 3"
    },
    "language_info": {
      "name": "python"
    }
  },
  "cells": [
    {
      "cell_type": "code",
      "execution_count": null,
      "metadata": {
        "id": "LOTG8G40vfay"
      },
      "outputs": [],
      "source": [
        ""
      ]
    },
    {
      "cell_type": "markdown",
      "metadata": {
        "id": "kCMGGHBTTkK1"
      },
      "source": [
        "# MusicVAE를 이용하여 4마디 드럼 데이터 생성하기"
      ]
    },
    {
      "cell_type": "markdown",
      "source": [
        "#### 내용 정리 노션\n",
        "\n",
        "링크 https://www.notion.so/ethicsense/Train-Generate-MusicVAE-06867f19397a44dab614a47b8502724e\n",
        "\n",
        "#### 코드 코랩 (생성 사운드 재생)\n",
        "\n",
        "링크 https://colab.research.google.com/drive/11UcFIheDM_An-yHkxNsV9aUQLs9d6QAv?usp=sharing"
      ],
      "metadata": {
        "id": "g3cx_qxQofs0"
      }
    },
    {
      "cell_type": "markdown",
      "metadata": {
        "id": "R49TM7JyTaKf"
      },
      "source": [
        "## Set up"
      ]
    },
    {
      "cell_type": "code",
      "execution_count": null,
      "metadata": {
        "colab": {
          "base_uri": "https://localhost:8080/"
        },
        "id": "bdIAzZLoXxxp",
        "outputId": "0af7add7-bd76-4a43-d973-9fc015d231b9"
      },
      "outputs": [
        {
          "output_type": "stream",
          "name": "stdout",
          "text": [
            "Drive already mounted at /content/drive; to attempt to forcibly remount, call drive.mount(\"/content/drive\", force_remount=True).\n"
          ]
        }
      ],
      "source": [
        "from google.colab import drive\n",
        "drive.mount('/content/drive')"
      ]
    },
    {
      "cell_type": "code",
      "execution_count": null,
      "metadata": {
        "colab": {
          "base_uri": "https://localhost:8080/"
        },
        "id": "1c8a18af",
        "outputId": "49f72dee-0fa7-48dc-8d61-127b90537739",
        "scrolled": false
      },
      "outputs": [
        {
          "output_type": "stream",
          "name": "stdout",
          "text": [
            "Installing dependencies...\n",
            "Selecting previously unselected package fluid-soundfont-gm.\n",
            "(Reading database ... 155639 files and directories currently installed.)\n",
            "Preparing to unpack .../fluid-soundfont-gm_3.1-5.1_all.deb ...\n",
            "Unpacking fluid-soundfont-gm (3.1-5.1) ...\n",
            "Selecting previously unselected package libfluidsynth1:amd64.\n",
            "Preparing to unpack .../libfluidsynth1_1.1.9-1_amd64.deb ...\n",
            "Unpacking libfluidsynth1:amd64 (1.1.9-1) ...\n",
            "Setting up fluid-soundfont-gm (3.1-5.1) ...\n",
            "Setting up libfluidsynth1:amd64 (1.1.9-1) ...\n",
            "Processing triggers for libc-bin (2.27-3ubuntu1.3) ...\n",
            "/sbin/ldconfig.real: /usr/local/lib/python3.7/dist-packages/ideep4py/lib/libmkldnn.so.0 is not a symbolic link\n",
            "\n",
            "\u001b[K     |████████████████████████████████| 1.4 MB 34.4 MB/s \n",
            "\u001b[K     |████████████████████████████████| 90 kB 10.7 MB/s \n",
            "\u001b[K     |████████████████████████████████| 1.4 MB 68.4 MB/s \n",
            "\u001b[K     |████████████████████████████████| 5.6 MB 13.6 MB/s \n",
            "\u001b[K     |████████████████████████████████| 204 kB 62.1 MB/s \n",
            "\u001b[K     |████████████████████████████████| 352 kB 81.2 MB/s \n",
            "\u001b[K     |████████████████████████████████| 2.3 MB 82.1 MB/s \n",
            "\u001b[K     |████████████████████████████████| 69 kB 8.8 MB/s \n",
            "\u001b[K     |████████████████████████████████| 3.6 MB 58.4 MB/s \n",
            "\u001b[K     |████████████████████████████████| 254 kB 90.8 MB/s \n",
            "\u001b[K     |████████████████████████████████| 1.6 MB 71.4 MB/s \n",
            "\u001b[K     |████████████████████████████████| 210 kB 82.7 MB/s \n",
            "\u001b[K     |████████████████████████████████| 20.2 MB 1.1 MB/s \n",
            "\u001b[K     |████████████████████████████████| 385 kB 78.8 MB/s \n",
            "\u001b[K     |████████████████████████████████| 48 kB 5.6 MB/s \n",
            "\u001b[K     |████████████████████████████████| 193 kB 71.1 MB/s \n",
            "\u001b[K     |████████████████████████████████| 5.8 MB 33.9 MB/s \n",
            "\u001b[K     |████████████████████████████████| 1.1 MB 74.8 MB/s \n",
            "\u001b[K     |████████████████████████████████| 79 kB 8.9 MB/s \n",
            "\u001b[K     |████████████████████████████████| 981 kB 71.2 MB/s \n",
            "\u001b[K     |████████████████████████████████| 367 kB 67.2 MB/s \n",
            "\u001b[K     |████████████████████████████████| 251 kB 92.7 MB/s \n",
            "\u001b[K     |████████████████████████████████| 191 kB 97.2 MB/s \n",
            "\u001b[K     |████████████████████████████████| 191 kB 78.2 MB/s \n",
            "\u001b[K     |████████████████████████████████| 178 kB 54.2 MB/s \n",
            "\u001b[?25h  Building wheel for librosa (setup.py) ... \u001b[?25l\u001b[?25hdone\n",
            "  Building wheel for mir-eval (setup.py) ... \u001b[?25l\u001b[?25hdone\n",
            "  Building wheel for pretty-midi (setup.py) ... \u001b[?25l\u001b[?25hdone\n",
            "  Building wheel for pygtrie (setup.py) ... \u001b[?25l\u001b[?25hdone\n",
            "  Building wheel for python-rtmidi (setup.py) ... \u001b[?25l\u001b[?25hdone\n",
            "  Building wheel for bz2file (setup.py) ... \u001b[?25l\u001b[?25hdone\n",
            "Importing libraries and defining some helper functions...\n"
          ]
        },
        {
          "output_type": "stream",
          "name": "stderr",
          "text": [
            "/usr/local/lib/python3.7/dist-packages/librosa/util/decorators.py:9: NumbaDeprecationWarning: An import was requested from a module that has moved location.\n",
            "Import requested from: 'numba.decorators', please update to use 'numba.core.decorators' or pin to Numba version 0.48.0. This alias will not be present in Numba version 0.50.0.\n",
            "  from numba.decorators import jit as optional_jit\n",
            "/usr/local/lib/python3.7/dist-packages/librosa/util/decorators.py:9: NumbaDeprecationWarning: An import was requested from a module that has moved location.\n",
            "Import of 'jit' requested from: 'numba.decorators', please update to use 'numba.core.decorators' or pin to Numba version 0.48.0. This alias will not be present in Numba version 0.50.0.\n",
            "  from numba.decorators import jit as optional_jit\n"
          ]
        },
        {
          "output_type": "stream",
          "name": "stdout",
          "text": [
            "WARNING:tensorflow:From /usr/local/lib/python3.7/dist-packages/tensorflow/python/compat/v2_compat.py:107: disable_resource_variables (from tensorflow.python.ops.variable_scope) is deprecated and will be removed in a future version.\n",
            "Instructions for updating:\n",
            "non-resource variables are not supported in the long term\n",
            "Done\n"
          ]
        }
      ],
      "source": [
        "import glob\n",
        "\n",
        "BASE_DIR = \"gs://download.magenta.tensorflow.org/models/music_vae/colab2\"\n",
        "\n",
        "print('Installing dependencies...')\n",
        "!apt-get update -qq && apt-get install -qq libfluidsynth1 fluid-soundfont-gm build-essential libasound2-dev libjack-dev\n",
        "!pip install -q pyfluidsynth\n",
        "!pip install -qU magenta\n",
        "\n",
        "# Hack to allow python to pick up the newly-installed fluidsynth lib.\n",
        "# This is only needed for the hosted Colab environment.\n",
        "import ctypes.util\n",
        "orig_ctypes_util_find_library = ctypes.util.find_library\n",
        "def proxy_find_library(lib):\n",
        "  if lib == 'fluidsynth':\n",
        "    return 'libfluidsynth.so.1'\n",
        "  else:\n",
        "    return orig_ctypes_util_find_library(lib)\n",
        "ctypes.util.find_library = proxy_find_library\n",
        "\n",
        "\n",
        "print('Importing libraries and defining some helper functions...')\n",
        "from google.colab import files\n",
        "import magenta.music as mm\n",
        "from magenta.models.music_vae import configs\n",
        "from magenta.models.music_vae.trained_model import TrainedModel\n",
        "import numpy as np\n",
        "import os\n",
        "import tensorflow.compat.v1 as tf\n",
        "\n",
        "tf.disable_v2_behavior()\n",
        "\n",
        "# Necessary until pyfluidsynth is updated (>1.2.5).\n",
        "import warnings\n",
        "warnings.filterwarnings(\"ignore\", category=DeprecationWarning)\n",
        "\n",
        "def play(note_sequence):\n",
        "  mm.play_sequence(note_sequence, synth=mm.fluidsynth)\n",
        "\n",
        "def interpolate(model, start_seq, end_seq, num_steps, max_length=32,\n",
        "                assert_same_length=True, temperature=0.5,\n",
        "                individual_duration=4.0):\n",
        "  \"\"\"Interpolates between a start and end sequence.\"\"\"\n",
        "  note_sequences = model.interpolate(\n",
        "      start_seq, end_seq,num_steps=num_steps, length=max_length,\n",
        "      temperature=temperature,\n",
        "      assert_same_length=assert_same_length)\n",
        "\n",
        "  print('Start Seq Reconstruction')\n",
        "  play(note_sequences[0])\n",
        "  print('End Seq Reconstruction')\n",
        "  play(note_sequences[-1])\n",
        "  print('Mean Sequence')\n",
        "  play(note_sequences[num_steps // 2])\n",
        "  print('Start -> End Interpolation')\n",
        "  interp_seq = mm.sequences_lib.concatenate_sequences(\n",
        "      note_sequences, [individual_duration] * len(note_sequences))\n",
        "  play(interp_seq)\n",
        "  mm.plot_sequence(interp_seq)\n",
        "  return interp_seq if num_steps > 3 else note_sequences[num_steps // 2]\n",
        "\n",
        "def download(note_sequence, filename):\n",
        "  mm.sequence_proto_to_midi_file(note_sequence, filename)\n",
        "  files.download(filename)\n",
        "\n",
        "print('Done')"
      ]
    },
    {
      "cell_type": "markdown",
      "metadata": {
        "id": "DISe_ENbTfLG"
      },
      "source": [
        "## Data Load"
      ]
    },
    {
      "cell_type": "code",
      "execution_count": null,
      "metadata": {
        "id": "jQgpB4RyFmfD"
      },
      "outputs": [],
      "source": [
        "import tensorflow_datasets as tfds\n",
        "\n",
        "# tfds works in both Eager and Graph modes\n",
        "tf.enable_eager_execution()\n",
        "\n",
        "# Load the full GMD with MIDI only (no audio) as a tf.data.Dataset\n",
        "dataset, info = tfds.load(\n",
        "    name=\"groove/4bar-midionly\",\n",
        "    split=tfds.Split.TRAIN,\n",
        "    with_info=True,\n",
        "    try_gcs=True)"
      ]
    },
    {
      "cell_type": "code",
      "execution_count": null,
      "metadata": {
        "colab": {
          "base_uri": "https://localhost:8080/"
        },
        "id": "drrUzri9GZaY",
        "outputId": "90cc5840-86fe-49a7-ec07-027d50bb075d"
      },
      "outputs": [
        {
          "output_type": "execute_result",
          "data": {
            "text/plain": [
              "tfds.core.DatasetInfo(\n",
              "    name='groove',\n",
              "    version=2.0.1,\n",
              "    description='The Groove MIDI Dataset (GMD) is composed of 13.6 hours of aligned MIDI and\n",
              "(synthesized) audio of human-performed, tempo-aligned expressive drumming\n",
              "captured on a Roland TD-11 V-Drum electronic drum kit.',\n",
              "    homepage='https://g.co/magenta/groove-dataset',\n",
              "    features=FeaturesDict({\n",
              "        'bpm': tf.int32,\n",
              "        'drummer': ClassLabel(shape=(), dtype=tf.int64, num_classes=10),\n",
              "        'id': tf.string,\n",
              "        'midi': tf.string,\n",
              "        'style': FeaturesDict({\n",
              "            'primary': ClassLabel(shape=(), dtype=tf.int64, num_classes=18),\n",
              "            'secondary': tf.string,\n",
              "        }),\n",
              "        'time_signature': ClassLabel(shape=(), dtype=tf.int64, num_classes=5),\n",
              "        'type': ClassLabel(shape=(), dtype=tf.int64, num_classes=2),\n",
              "    }),\n",
              "    total_num_examples=21415,\n",
              "    splits={\n",
              "        'test': 2033,\n",
              "        'train': 17261,\n",
              "        'validation': 2121,\n",
              "    },\n",
              "    supervised_keys=None,\n",
              "    citation=\"\"\"@inproceedings{groove2019,\n",
              "        Author = {Jon Gillick and Adam Roberts and Jesse Engel and Douglas Eck and David Bamman},\n",
              "        Title = {Learning to Groove with Inverse Sequence Transformations},\n",
              "        Booktitle\t= {International Conference on Machine Learning (ICML)}\n",
              "        Year = {2019},\n",
              "    }\"\"\",\n",
              "    redistribution_info=,\n",
              ")"
            ]
          },
          "metadata": {},
          "execution_count": 4
        }
      ],
      "source": [
        "info"
      ]
    },
    {
      "cell_type": "code",
      "execution_count": null,
      "metadata": {
        "id": "a0rINS-9LErB"
      },
      "outputs": [],
      "source": [
        "# Build your input pipeline\n",
        "dataset = dataset.shuffle(1024).batch(32).prefetch(\n",
        "    tf.data.experimental.AUTOTUNE)\n",
        "for features in dataset.take(1):\n",
        "  # Access the features you are interested in\n",
        "  midi, genre = features[\"midi\"], features[\"style\"][\"primary\"]"
      ]
    },
    {
      "cell_type": "markdown",
      "metadata": {
        "id": "nfc_tJMQZ107"
      },
      "source": [
        "데이터를 코드로 직접 불러오고 코드블럭 내에서만 조작하고자 했으나 tensorflow_datasets 모듈에 대한 이해가 부족하고 적절한 자료를 찾지 못해 시간이 너무 많이 지연되어 기한을 맞추고자 우선 직접 다운로드 받아 드라이브에 저장하고 Magenta에서 지원하는 스크립트를 사용하여 전처리를 수행하기로 했습니다."
      ]
    },
    {
      "cell_type": "markdown",
      "metadata": {
        "id": "pXiybsOgaYBM"
      },
      "source": [
        "### Data load 2nd try"
      ]
    },
    {
      "cell_type": "code",
      "execution_count": null,
      "metadata": {
        "id": "4ZmKBDUSLyKp"
      },
      "outputs": [],
      "source": [
        "!convert_dir_to_note_sequences \\\n",
        "  --input_dir='./drive/MyDrive/VAE/datasets/midionly' \\\n",
        "  --output_file='./drive/MyDrive/VAE/datasets/sequences.tfrecord' \\\n",
        "  --recursive"
      ]
    }
  ]
}