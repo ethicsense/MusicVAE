{
  "nbformat": 4,
  "nbformat_minor": 0,
  "metadata": {
    "colab": {
      "name": "musicVAE_2_train.ipynb",
      "provenance": []
    },
    "kernelspec": {
      "name": "python3",
      "display_name": "Python 3"
    },
    "language_info": {
      "name": "python"
    }
  },
  "cells": [
    {
      "cell_type": "code",
      "execution_count": null,
      "metadata": {
        "id": "X3SWjQV_vbmh"
      },
      "outputs": [],
      "source": [
        ""
      ]
    },
    {
      "cell_type": "markdown",
      "source": [
        "## cat-drums model 학습"
      ],
      "metadata": {
        "id": "S2y9iVA9tOWx"
      }
    },
    {
      "cell_type": "code",
      "execution_count": null,
      "metadata": {
        "colab": {
          "background_save": true
        },
        "id": "9QxUa1uJXDWP"
      },
      "outputs": [],
      "source": [
        "!music_vae_train \\\n",
        "--config='cat-drums_2bar_small' \\\n",
        "--run_dir='./drive/MyDrive/VAE' \\\n",
        "--mode=train \\\n",
        "--examples_path='./drive/MyDrive/VAE/datasets/sequences.tfrecord'"
      ]
    },
    {
      "cell_type": "markdown",
      "source": [
        "## GrooVAE model 학습"
      ],
      "metadata": {
        "id": "xI7BFKQqstnv"
      }
    },
    {
      "cell_type": "markdown",
      "source": [
        "### 4마디 데이터만 사용"
      ],
      "metadata": {
        "id": "U554kdBitC-9"
      }
    },
    {
      "cell_type": "code",
      "execution_count": null,
      "metadata": {
        "id": "DPdS807odSDH"
      },
      "outputs": [],
      "source": [
        "!music_vae_train \\\n",
        "--config='groovae_4bar' \\\n",
        "--run_dir='./drive/MyDrive/VAE/groovae' \\\n",
        "--mode=train \\\n",
        "--num_steps=10000 \\\n",
        "--tfds_name='groove/4bar-midionly'"
      ]
    },
    {
      "cell_type": "markdown",
      "source": [
        "### 데이터셋 전체 사용"
      ],
      "metadata": {
        "id": "OfUiEL-Vs67u"
      }
    },
    {
      "cell_type": "code",
      "source": [
        "!music_vae_train \\\n",
        "--config='groovae_4bar' \\\n",
        "--run_dir='./drive/MyDrive/VAE/groovae_2nd' \\\n",
        "--mode=train \\\n",
        "--num_steps=10000 \\\n",
        "--tfds_name='groove/full-midionly'"
      ],
      "metadata": {
        "id": "3a2aDVx0sGQG"
      },
      "execution_count": null,
      "outputs": []
    },
    {
      "cell_type": "markdown",
      "source": [
        "tfds 인자를 전달받는 것을 보았을 때 전처리를 수행하는 코드를 모두 구현하였을 것이라고 생각했으나 직접 확인하고 싶어 전처리를 손수 진행한 데이터셋으로도 훈련을 진행 해보았습니다."
      ],
      "metadata": {
        "id": "_g337wnD767P"
      }
    },
    {
      "cell_type": "markdown",
      "source": [
        "### 전체 데이터셋 (직접 전처리 수행) 사용"
      ],
      "metadata": {
        "id": "ZzzcUOXy8Y0N"
      }
    },
    {
      "cell_type": "code",
      "source": [
        "!music_vae_train \\\n",
        "--config='groovae_4bar' \\\n",
        "--run_dir='./drive/MyDrive/VAE/groovae_3rd' \\\n",
        "--mode=train \\\n",
        "--num_steps=10000 \\\n",
        "--examples_path='./drive/MyDrive/VAE/datasets/sequences.tfrecord'"
      ],
      "metadata": {
        "id": "-htErbXuscqj"
      },
      "execution_count": null,
      "outputs": []
    },
    {
      "cell_type": "markdown",
      "source": [
        "### 전체 데이터셋 사용\n",
        "step을 늘림 (default=200,000)"
      ],
      "metadata": {
        "id": "hC3pG66HJEDM"
      }
    },
    {
      "cell_type": "code",
      "source": [
        "!music_vae_train \\\n",
        "--config='groovae_4bar' \\\n",
        "--run_dir='./drive/MyDrive/VAE/groovae_4th' \\\n",
        "--mode=train \\\n",
        "--tfds_name='groove/full-midionly'"
      ],
      "metadata": {
        "id": "5GCg2pGrJMpr"
      },
      "execution_count": null,
      "outputs": []
    }
  ]
}